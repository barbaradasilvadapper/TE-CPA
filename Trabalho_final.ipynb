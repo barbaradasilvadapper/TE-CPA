{
 "cells": [
  {
   "cell_type": "markdown",
   "id": "713b884b",
   "metadata": {},
   "source": [
    "# CPA - Trabalho Extensionista\n",
    "\n",
    "### Nomes: \n",
    "- Ana Carolina Poletto, \n",
    "- Barbara Depper, \n",
    "- Louise Zanol Northfleet. "
   ]
  },
  {
   "cell_type": "markdown",
   "id": "17cf87fb",
   "metadata": {},
   "source": [
    "---------------\n",
    "### 1. Análise Exploratoria dos Dados:\n",
    "- Compreensão inicial do que cada coluna representa. \n",
    "- Uniformização dos Dados\n",
    "- Indentificar a qualidade dos dados; \n",
    "- Identificar dados ausentes;\n",
    "- Tratamento desses Dados.\n",
    "\n",
    "### 2. Gerar o dataset final \n",
    "- Agrupar por municipio e ano. \n",
    "--------------"
   ]
  },
  {
   "cell_type": "code",
   "execution_count": 69,
   "id": "40017b2b",
   "metadata": {},
   "outputs": [],
   "source": [
    "# Manipulacao dos dados\n",
    "import pandas as pd\n",
    "from unidecode import unidecode\n",
    "import numpy as np\n",
    "\n",
    "# Para rodar outras files do jupyter nootebook dentro desta file \n",
    "import nbformat \n",
    "\n",
    "# Visualização de dados\n",
    "import matplotlib.pyplot as plt\n",
    "import seaborn as sns"
   ]
  },
  {
   "cell_type": "markdown",
   "id": "8627eb12",
   "metadata": {},
   "source": [
    "\n",
    "## 1. Análise dos Dados:"
   ]
  },
  {
   "cell_type": "markdown",
   "id": "456de5ba",
   "metadata": {},
   "source": [
    "#### A uniformização e a análise exploratória dos dados serão realizadas em arquivos separadas, visando uma melhor organização.\n",
    "\n",
    "#### Para encontrar a análise de cada data frame acesse:\n",
    "\n",
    "- `Dados_do_Enem.ipynb -->  Dados do ENEM`\n",
    "- `Dados_PNAE.ipynb -->  Dados do PNAE`"
   ]
  },
  {
   "cell_type": "markdown",
   "id": "d231a342",
   "metadata": {},
   "source": [
    "Lendo o notebook Dados_do_Enem e executa todas as células de código do notebook:"
   ]
  },
  {
   "cell_type": "code",
   "execution_count": 70,
   "id": "265ba43f",
   "metadata": {},
   "outputs": [
    {
     "name": "stdout",
     "output_type": "stream",
     "text": [
      "  NO_MUNICIPIO_ESCOLA  NU_ANO  NU_MATRICULAS\n",
      "0              Aceguá    2012             33\n",
      "1              Aceguá    2014             40\n",
      "2              Aceguá    2015             63\n",
      "3               Agudo    2012             97\n",
      "4               Agudo    2013            106\n",
      "                           Qtd. Faltantes  % Faltantes\n",
      "INSE                                 4195       100.00\n",
      "NU_MEDIA_TOT                         4195       100.00\n",
      "NU_MEDIA_OBJ                         4195       100.00\n",
      "NU_TAXA_PERMANENCIA                  1962        46.77\n",
      "PC_FORMACAO_DOCENTE                   925        22.05\n",
      "NU_PARTICIPANTES_NEC_ESP              925        22.05\n",
      "NU_TAXA_ABANDONO                        1         0.02\n",
      "NU_TAXA_REPROVACAO                      1         0.02\n",
      "NU_TAXA_APROVACAO                       1         0.02\n",
      "NU_ANO                                  0         0.00\n",
      "NU_MEDIA_LP                             0         0.00\n",
      "NU_MEDIA_RED                            0         0.00\n",
      "NU_MEDIA_MT                             0         0.00\n",
      "NU_MEDIA_CH                             0         0.00\n",
      "SG_UF_ESCOLA                            0         0.00\n",
      "NU_MEDIA_CN                             0         0.00\n",
      "NU_TAXA_PARTICIPACAO                    0         0.00\n",
      "NU_PARTICIPANTES                        0         0.00\n",
      "NU_MATRICULAS                           0         0.00\n",
      "TP_LOCALIZACAO_ESCOLA                   0         0.00\n",
      "TP_DEPENDENCIA_ADM_ESCOLA               0         0.00\n",
      "NO_ESCOLA_EDUCACENSO                    0         0.00\n",
      "NO_MUNICIPIO_ESCOLA                     0         0.00\n",
      "CO_MUNICIPIO_ESCOLA                     0         0.00\n",
      "PORTE_ESCOLA                            0         0.00\n",
      "                           Qtd. Faltantes  % Faltantes\n",
      "INSE                                 4195       100.00\n",
      "NU_TAXA_PERMANENCIA                  1962        46.77\n",
      "PC_FORMACAO_DOCENTE                   925        22.05\n",
      "NU_PARTICIPANTES_NEC_ESP              925        22.05\n",
      "NU_TAXA_ABANDONO                        1         0.02\n",
      "NU_TAXA_REPROVACAO                      1         0.02\n",
      "NU_TAXA_APROVACAO                       1         0.02\n",
      "NU_ANO                                  0         0.00\n",
      "NU_MEDIA_LP                             0         0.00\n",
      "NU_MEDIA_TOT                            0         0.00\n",
      "NU_MEDIA_OBJ                            0         0.00\n",
      "NU_MEDIA_RED                            0         0.00\n",
      "NU_MEDIA_MT                             0         0.00\n",
      "NU_MEDIA_CH                             0         0.00\n",
      "SG_UF_ESCOLA                            0         0.00\n",
      "NU_MEDIA_CN                             0         0.00\n",
      "NU_TAXA_PARTICIPACAO                    0         0.00\n",
      "NU_PARTICIPANTES                        0         0.00\n",
      "NU_MATRICULAS                           0         0.00\n",
      "TP_LOCALIZACAO_ESCOLA                   0         0.00\n",
      "TP_DEPENDENCIA_ADM_ESCOLA               0         0.00\n",
      "NO_ESCOLA_EDUCACENSO                    0         0.00\n",
      "NO_MUNICIPIO_ESCOLA                     0         0.00\n",
      "CO_MUNICIPIO_ESCOLA                     0         0.00\n",
      "PORTE_ESCOLA                            0         0.00\n",
      "                           Qtd. Faltantes  % Faltantes\n",
      "NU_TAXA_PERMANENCIA                  1961        46.76\n",
      "PC_FORMACAO_DOCENTE                   924        22.03\n",
      "NU_PARTICIPANTES_NEC_ESP              924        22.03\n",
      "NU_ANO                                  0         0.00\n",
      "NU_MEDIA_LP                             0         0.00\n",
      "NU_TAXA_ABANDONO                        0         0.00\n",
      "NU_TAXA_REPROVACAO                      0         0.00\n",
      "NU_TAXA_APROVACAO                       0         0.00\n",
      "NU_MEDIA_TOT                            0         0.00\n",
      "NU_MEDIA_OBJ                            0         0.00\n",
      "NU_MEDIA_RED                            0         0.00\n",
      "NU_MEDIA_MT                             0         0.00\n",
      "NU_MEDIA_CH                             0         0.00\n",
      "SG_UF_ESCOLA                            0         0.00\n",
      "NU_MEDIA_CN                             0         0.00\n",
      "NU_TAXA_PARTICIPACAO                    0         0.00\n",
      "NU_PARTICIPANTES                        0         0.00\n",
      "NU_MATRICULAS                           0         0.00\n",
      "TP_LOCALIZACAO_ESCOLA                   0         0.00\n",
      "TP_DEPENDENCIA_ADM_ESCOLA               0         0.00\n",
      "NO_ESCOLA_EDUCACENSO                    0         0.00\n",
      "NO_MUNICIPIO_ESCOLA                     0         0.00\n",
      "CO_MUNICIPIO_ESCOLA                     0         0.00\n",
      "PORTE_ESCOLA                            0         0.00\n",
      "0       1\n",
      "1       1\n",
      "2       1\n",
      "3       1\n",
      "4       2\n",
      "       ..\n",
      "4190    1\n",
      "4191    1\n",
      "4192    1\n",
      "4193    1\n",
      "4194    1\n",
      "Name: TP_DEPENDENCIA_ADM_ESCOLA, Length: 3095, dtype: int64\n",
      "  NO_MUNICIPIO_ESCOLA  NU_ANO  NU_MATRICULAS\n",
      "0              ACEGUÁ    2012             33\n",
      "1              ACEGUÁ    2014             40\n",
      "2              ACEGUÁ    2015             63\n",
      "3               AGUDO    2012             97\n",
      "4               AGUDO    2013            106\n",
      "Index(['Municipio', 'Ano', 'NU_MATRICULAS', 'NU_PARTICIPANTES', 'NU_MEDIA_TOT',\n",
      "       'NU_TAXA_PERMANENCIA', 'NU_TAXA_ABANDONO'],\n",
      "      dtype='object')\n"
     ]
    },
    {
     "name": "stderr",
     "output_type": "stream",
     "text": [
      "<string>:10: DtypeWarning: Columns (20) have mixed types. Specify dtype option on import or set low_memory=False.\n"
     ]
    }
   ],
   "source": [
    "\n",
    "with open(\"Dados_do_Enem.ipynb\") as f:\n",
    "    notebook = nbformat.read(f, as_version=4)\n",
    "\n",
    "for i, cell in enumerate(notebook.cells):\n",
    "    if cell.cell_type == 'code':\n",
    "        try:\n",
    "            exec(cell.source)\n",
    "        except Exception as e:\n",
    "            print(f\"\\nErro na célula {i}:\\n{cell.source}\\n\")\n",
    "            print(f\"Tipo do erro: {type(e).__name__}\")\n",
    "            print(f\"Mensagem: {e}\")"
   ]
  },
  {
   "cell_type": "code",
   "execution_count": 71,
   "id": "f8efd3b5",
   "metadata": {},
   "outputs": [],
   "source": [
    "Dados_do_Enem = pd.read_csv(\"df1.csv\") # enem por escola "
   ]
  },
  {
   "cell_type": "markdown",
   "id": "c246f3da",
   "metadata": {},
   "source": [
    "Abre o notebook Dados_PNAE.ipynb e executa todas as células de código do notebook:"
   ]
  },
  {
   "cell_type": "code",
   "execution_count": 72,
   "id": "d9f14788",
   "metadata": {},
   "outputs": [
    {
     "name": "stdout",
     "output_type": "stream",
     "text": [
      "['CRECHE' 'EJA' 'ENSINO FUNDAMENTAL' 'ENSINO MÉDIO'\n",
      " 'ENSINO MÉDIO INTEGRAL' 'PRÉ-ESCOLA'\n",
      " 'ATENDIMENTO EDUCACIONAL ESPECIALIZADO (AEE)' 'INDÍGENA'\n",
      " 'MAIS EDUCAÇÃO (PARC. COMPLEM.) - FUNDAMENTAL' 'QUILOMBOLA'\n",
      " 'MAIS EDUCAÇÃO (PARC. COMPLEM.) - INDÍGENA'\n",
      " 'MAIS EDUCAÇÃO (PARC. COMPLEM.) - QUILOMBOLA'\n",
      " 'MAIS EDUCAÇÃO (PARC. COMPLEM.) - MÉDIO']\n",
      "Linhas totais: 22796\n",
      "Duplicadas: 22240\n",
      "quantidade de linhas nao Duplicadas: 556\n",
      "Duplicadas: 0\n",
      "                        Qtd. Faltantes  % Faltantes\n",
      "Co_recursos_repassados               0          0.0\n",
      "Ano                                  0          0.0\n",
      "Estado                               0          0.0\n",
      "Municipio                            0          0.0\n",
      "Esfera_governo                       0          0.0\n",
      "Modalidade_ensino                    0          0.0\n",
      "Vl_total_escolas                     0          0.0\n",
      "                   Qtd. Faltantes  % Faltantes\n",
      "Ano                             0          0.0\n",
      "Estado                          0          0.0\n",
      "Municipio                       0          0.0\n",
      "Esfera_governo                  0          0.0\n",
      "Modalidade_ensino               0          0.0\n",
      "Vl_total_escolas                0          0.0\n",
      "      Municipio   Ano  Vl_total_escolas\n",
      "0     AJURICABA  2012            740460\n",
      "1     AJURICABA  2013            626562\n",
      "2     AJURICABA  2014            651900\n",
      "3       ALECRIM  2012            659280\n",
      "4       ALECRIM  2013            560880\n",
      "..          ...   ...               ...\n",
      "547  VILA_MARIA  2015            312420\n",
      "548   WESTFALIA  2012            248460\n",
      "549   WESTFALIA  2013            255840\n",
      "550   WESTFALIA  2014            248460\n",
      "551   WESTFALIA  2015            282900\n",
      "\n",
      "[552 rows x 3 columns]\n"
     ]
    }
   ],
   "source": [
    "with open(\"Dados_PNAE.ipynb\") as f:\n",
    "    notebook = nbformat.read(f, as_version=4)\n",
    "\n",
    "for i, cell in enumerate(notebook.cells):\n",
    "    if cell.cell_type == 'code':\n",
    "        try:\n",
    "            exec(cell.source)\n",
    "        except Exception as e:\n",
    "            print(f\"\\nErro na célula {i}:\\n{cell.source}\\n\")\n",
    "            print(f\"Tipo do erro: {type(e).__name__}\")\n",
    "            print(f\"Mensagem: {e}\")"
   ]
  },
  {
   "cell_type": "code",
   "execution_count": 73,
   "id": "5136907a",
   "metadata": {},
   "outputs": [],
   "source": [
    "df1 = pd.read_csv(\"df1.csv\") \n",
    "df2 = pd.read_csv(\"df2.csv\")"
   ]
  },
  {
   "cell_type": "code",
   "execution_count": 74,
   "id": "f3709aac",
   "metadata": {},
   "outputs": [
    {
     "data": {
      "text/html": [
       "<div>\n",
       "<style scoped>\n",
       "    .dataframe tbody tr th:only-of-type {\n",
       "        vertical-align: middle;\n",
       "    }\n",
       "\n",
       "    .dataframe tbody tr th {\n",
       "        vertical-align: top;\n",
       "    }\n",
       "\n",
       "    .dataframe thead th {\n",
       "        text-align: right;\n",
       "    }\n",
       "</style>\n",
       "<table border=\"1\" class=\"dataframe\">\n",
       "  <thead>\n",
       "    <tr style=\"text-align: right;\">\n",
       "      <th></th>\n",
       "      <th>Municipio</th>\n",
       "      <th>Ano</th>\n",
       "      <th>NU_MATRICULAS</th>\n",
       "      <th>NU_PARTICIPANTES</th>\n",
       "      <th>NU_MEDIA_TOT</th>\n",
       "      <th>NU_TAXA_PERMANENCIA</th>\n",
       "      <th>NU_TAXA_ABANDONO</th>\n",
       "    </tr>\n",
       "  </thead>\n",
       "  <tbody>\n",
       "    <tr>\n",
       "      <th>0</th>\n",
       "      <td>ACEGUÁ</td>\n",
       "      <td>2012</td>\n",
       "      <td>33</td>\n",
       "      <td>21</td>\n",
       "      <td>499.41</td>\n",
       "      <td>NaN</td>\n",
       "      <td>16.9</td>\n",
       "    </tr>\n",
       "    <tr>\n",
       "      <th>1</th>\n",
       "      <td>ACEGUÁ</td>\n",
       "      <td>2014</td>\n",
       "      <td>40</td>\n",
       "      <td>24</td>\n",
       "      <td>491.07</td>\n",
       "      <td>87.5</td>\n",
       "      <td>1.7</td>\n",
       "    </tr>\n",
       "    <tr>\n",
       "      <th>2</th>\n",
       "      <td>ACEGUÁ</td>\n",
       "      <td>2015</td>\n",
       "      <td>63</td>\n",
       "      <td>40</td>\n",
       "      <td>496.30</td>\n",
       "      <td>90.0</td>\n",
       "      <td>6.4</td>\n",
       "    </tr>\n",
       "    <tr>\n",
       "      <th>3</th>\n",
       "      <td>AGUDO</td>\n",
       "      <td>2012</td>\n",
       "      <td>97</td>\n",
       "      <td>90</td>\n",
       "      <td>513.70</td>\n",
       "      <td>NaN</td>\n",
       "      <td>5.5</td>\n",
       "    </tr>\n",
       "    <tr>\n",
       "      <th>4</th>\n",
       "      <td>AGUDO</td>\n",
       "      <td>2013</td>\n",
       "      <td>106</td>\n",
       "      <td>81</td>\n",
       "      <td>529.26</td>\n",
       "      <td>NaN</td>\n",
       "      <td>7.6</td>\n",
       "    </tr>\n",
       "  </tbody>\n",
       "</table>\n",
       "</div>"
      ],
      "text/plain": [
       "  Municipio   Ano  NU_MATRICULAS  NU_PARTICIPANTES  NU_MEDIA_TOT  \\\n",
       "0    ACEGUÁ  2012             33                21        499.41   \n",
       "1    ACEGUÁ  2014             40                24        491.07   \n",
       "2    ACEGUÁ  2015             63                40        496.30   \n",
       "3     AGUDO  2012             97                90        513.70   \n",
       "4     AGUDO  2013            106                81        529.26   \n",
       "\n",
       "   NU_TAXA_PERMANENCIA  NU_TAXA_ABANDONO  \n",
       "0                  NaN              16.9  \n",
       "1                 87.5               1.7  \n",
       "2                 90.0               6.4  \n",
       "3                  NaN               5.5  \n",
       "4                  NaN               7.6  "
      ]
     },
     "execution_count": 74,
     "metadata": {},
     "output_type": "execute_result"
    }
   ],
   "source": [
    "df1.head()"
   ]
  },
  {
   "cell_type": "code",
   "execution_count": 75,
   "id": "8f86d757",
   "metadata": {},
   "outputs": [
    {
     "data": {
      "text/html": [
       "<div>\n",
       "<style scoped>\n",
       "    .dataframe tbody tr th:only-of-type {\n",
       "        vertical-align: middle;\n",
       "    }\n",
       "\n",
       "    .dataframe tbody tr th {\n",
       "        vertical-align: top;\n",
       "    }\n",
       "\n",
       "    .dataframe thead th {\n",
       "        text-align: right;\n",
       "    }\n",
       "</style>\n",
       "<table border=\"1\" class=\"dataframe\">\n",
       "  <thead>\n",
       "    <tr style=\"text-align: right;\">\n",
       "      <th></th>\n",
       "      <th>Municipio</th>\n",
       "      <th>Ano</th>\n",
       "      <th>Vl_total_escolas</th>\n",
       "    </tr>\n",
       "  </thead>\n",
       "  <tbody>\n",
       "    <tr>\n",
       "      <th>0</th>\n",
       "      <td>AJURICABA</td>\n",
       "      <td>2012</td>\n",
       "      <td>740460</td>\n",
       "    </tr>\n",
       "    <tr>\n",
       "      <th>1</th>\n",
       "      <td>AJURICABA</td>\n",
       "      <td>2013</td>\n",
       "      <td>626562</td>\n",
       "    </tr>\n",
       "    <tr>\n",
       "      <th>2</th>\n",
       "      <td>AJURICABA</td>\n",
       "      <td>2014</td>\n",
       "      <td>651900</td>\n",
       "    </tr>\n",
       "    <tr>\n",
       "      <th>3</th>\n",
       "      <td>ALECRIM</td>\n",
       "      <td>2012</td>\n",
       "      <td>659280</td>\n",
       "    </tr>\n",
       "    <tr>\n",
       "      <th>4</th>\n",
       "      <td>ALECRIM</td>\n",
       "      <td>2013</td>\n",
       "      <td>560880</td>\n",
       "    </tr>\n",
       "  </tbody>\n",
       "</table>\n",
       "</div>"
      ],
      "text/plain": [
       "   Municipio   Ano  Vl_total_escolas\n",
       "0  AJURICABA  2012            740460\n",
       "1  AJURICABA  2013            626562\n",
       "2  AJURICABA  2014            651900\n",
       "3    ALECRIM  2012            659280\n",
       "4    ALECRIM  2013            560880"
      ]
     },
     "execution_count": 75,
     "metadata": {},
     "output_type": "execute_result"
    }
   ],
   "source": [
    "df2.head()"
   ]
  },
  {
   "cell_type": "markdown",
   "id": "3f06ca2b",
   "metadata": {},
   "source": [
    "## 2. Gerar o dataset final"
   ]
  },
  {
   "cell_type": "code",
   "execution_count": 76,
   "id": "508ba063",
   "metadata": {},
   "outputs": [
    {
     "name": "stdout",
     "output_type": "stream",
     "text": [
      "   Municipio   Ano  NU_MATRICULAS  NU_PARTICIPANTES  NU_MEDIA_TOT  \\\n",
      "0  AJURICABA  2012             84                48        517.69   \n",
      "1  AJURICABA  2013             62                31        517.02   \n",
      "2  AJURICABA  2014             66                40        527.68   \n",
      "3    ALECRIM  2012             55                42        525.93   \n",
      "4    ALECRIM  2013             58                49        534.30   \n",
      "\n",
      "   NU_TAXA_PERMANENCIA  NU_TAXA_ABANDONO  Vl_total_escolas  \n",
      "0                  NaN               4.1            740460  \n",
      "1                  NaN               8.0            626562  \n",
      "2                 95.0               8.6            651900  \n",
      "3                  NaN               1.3            659280  \n",
      "4                  NaN               3.3            560880  \n"
     ]
    }
   ],
   "source": [
    "# Fazer o merge com base em 'Municipio' e 'Ano'\n",
    "df_final = pd.merge(df1, df2, on=['Municipio', 'Ano'], how='inner')\n",
    "\n",
    "# Visualizar o resultado\n",
    "print(df_final.head())"
   ]
  },
  {
   "cell_type": "markdown",
   "id": "836a8010",
   "metadata": {},
   "source": [
    "#### Renomeia as Colunas"
   ]
  },
  {
   "cell_type": "code",
   "execution_count": 77,
   "id": "088b6ae5",
   "metadata": {},
   "outputs": [],
   "source": [
    "df_final = df_final.rename(columns={\n",
    "    'Municipio': 'Município',\n",
    "    'Ano': 'Ano',\n",
    "    'Vl_total_escolas': 'Valor Total por Municipio (R$)',\n",
    "    'NU_MATRICULAS': 'Número de matriculas no Enem',\n",
    "    'NU_PARTICIPANTES': 'Número de participantes', \n",
    "    'NU_MEDIA_TOT': 'Média Total Enem',\n",
    "    'NU_TAXA_PERMANENCIA': 'Taxa de Permanência (%)',\n",
    "    'NU_TAXA_ABANDONO': 'Taxa de Abandono (%)',\n",
    "    'Repasse_per_capita': 'Repasse per Capita (R$)'\n",
    "})"
   ]
  },
  {
   "cell_type": "markdown",
   "id": "9e250c99",
   "metadata": {},
   "source": [
    "#### Precisamos criar uma coluna para o numero do repasse por aluno (repasse per capta)"
   ]
  },
  {
   "cell_type": "code",
   "execution_count": 78,
   "id": "01f79a49",
   "metadata": {},
   "outputs": [
    {
     "name": "stdout",
     "output_type": "stream",
     "text": [
      "Média do repasse per capita: R$ 3571.14\n",
      "Média do repasse per capita por dia letivo: R$ 17.8557\n",
      "Média do repasse per capita por ano:\n",
      "Ano\n",
      "2012    3978.41\n",
      "2013    3583.39\n",
      "2014    3352.16\n",
      "2015    3331.96\n",
      "Name: Repasse per Capita (R$), dtype: float64\n",
      "\n",
      "Média do repasse per capita por dia letivo (assumindo 200 dias):\n",
      "Ano\n",
      "2012    19.89\n",
      "2013    17.92\n",
      "2014    16.76\n",
      "2015    16.66\n",
      "Name: Repasse per Capita (R$), dtype: float64\n"
     ]
    }
   ],
   "source": [
    "# transforma em string\n",
    "df_final['Número de matriculas no Enem'] = df_final['Número de matriculas no Enem'].astype(str) \n",
    "df_final['Valor Total por Municipio (R$)'] = df_final['Valor Total por Municipio (R$)'].astype(str)\n",
    "\n",
    "#Transforma um ponto em uma virgula\n",
    "df_final['Valor Total por Municipio (R$)'] = df_final['Valor Total por Municipio (R$)'].str.replace(',', '', regex=False)\n",
    "\n",
    "#Transforma em um numero \n",
    "df_final['Valor Total por Municipio (R$)'] = pd.to_numeric(df_final['Valor Total por Municipio (R$)'], errors='coerce')\n",
    "df_final['Número de matriculas no Enem'] = pd.to_numeric(df_final['Número de matriculas no Enem'], errors='coerce')\n",
    "\n",
    "#cria o repasse per capita \n",
    "df_final['Repasse per Capita (R$)'] = df_final['Valor Total por Municipio (R$)'] / (df_final['Número de matriculas no Enem'] * 3)\n",
    "\n",
    "# arredonda para duas casas decimais \n",
    "df_final['Repasse per Capita (R$)'] = df_final['Repasse per Capita (R$)'].round(2)\n",
    "\n",
    "media = df_final['Repasse per Capita (R$)'].mean().round(2)\n",
    "print(\"Média do repasse per capita: R$\", media)\n",
    "print(\"Média do repasse per capita por dia letivo: R$\", media/200)\n",
    "\n",
    "\n",
    "media_por_ano = df_final.groupby('Ano')['Repasse per Capita (R$)'].mean().round(2)\n",
    "\n",
    "print(\"Média do repasse per capita por ano:\")\n",
    "print(media_por_ano)\n",
    "\n",
    "print(\"\\nMédia do repasse per capita por dia letivo (assumindo 200 dias):\")\n",
    "print((media_por_ano / 200).round(2))\n"
   ]
  },
  {
   "cell_type": "markdown",
   "id": "5e98c6d7",
   "metadata": {},
   "source": [
    "Cria uma tabela com a soma total por ano "
   ]
  },
  {
   "cell_type": "code",
   "execution_count": 79,
   "id": "6bd3c563",
   "metadata": {},
   "outputs": [],
   "source": [
    "Soma_por_ano = df_final.groupby('Ano')['Número de matriculas no Enem'].sum()\n",
    "\n",
    "# Converte para DataFrame\n",
    "Soma_por_ano_df = Soma_por_ano.reset_index()\n",
    "\n",
    "# Renomeia as colunas\n",
    "Soma_por_ano_df.columns = ['Ano', 'Soma do Número de matriculas no Enem']\n",
    "Soma_por_ano_df.to_csv('Soma_por_ano.csv', index=False)"
   ]
  },
  {
   "cell_type": "code",
   "execution_count": 80,
   "id": "86b378ce",
   "metadata": {},
   "outputs": [],
   "source": [
    "df_final.to_csv('tabela_final.csv', index=False)"
   ]
  }
 ],
 "metadata": {
  "kernelspec": {
   "display_name": "Python 3",
   "language": "python",
   "name": "python3"
  },
  "language_info": {
   "codemirror_mode": {
    "name": "ipython",
    "version": 3
   },
   "file_extension": ".py",
   "mimetype": "text/x-python",
   "name": "python",
   "nbconvert_exporter": "python",
   "pygments_lexer": "ipython3",
   "version": "3.9.6"
  }
 },
 "nbformat": 4,
 "nbformat_minor": 5
}

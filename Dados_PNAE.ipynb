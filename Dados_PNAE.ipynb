{
 "cells": [
  {
   "cell_type": "markdown",
   "id": "6a7fcb32",
   "metadata": {},
   "source": [
    "# Dados do repasses da PNAE"
   ]
  },
  {
   "cell_type": "markdown",
   "id": "4c3a1559",
   "metadata": {},
   "source": [
    "#### Recursos repassados pela PNAE Incial:\n",
    "\n",
    "`7 Colunas:`\n",
    "\n",
    "1. Co_recursos_repassados\n",
    "Código identificador do repasse de recursos financeiros.\n",
    "\n",
    "2. Ano\n",
    "Ano em que os recursos financeiros foram repassados.\n",
    "\n",
    "3. Estado\n",
    "Unidade federativa (UF).\n",
    "\n",
    "4. Municipio\n",
    "Nome da cidade ou município ao qual os recursos foram destinados.\n",
    "\n",
    "5. Esfera_governo\n",
    "Nível administrativo que a escola está vinculada.\n",
    "\n",
    "6. Modalidade_ensino\n",
    "Categoria de ensino à qual os recursos são destinados, tais como:\n",
    "- Creche\n",
    "- Educação de Jovens e Adultos (EJA)\n",
    "- Ensino Fundamental\n",
    "- Ensino Médio\n",
    "- Ensino Médio Integral\n",
    "- Pré-escola\n",
    "- Atendimento Educacional Especializado (AEE)\n",
    "\n",
    "7. Vl_total_escolas\n",
    "Valor total em reais (R$) destinado às escolas."
   ]
  },
  {
   "cell_type": "code",
   "execution_count": 272,
   "id": "4e14deab",
   "metadata": {},
   "outputs": [
    {
     "data": {
      "text/plain": [
       "(16966695, 7)"
      ]
     },
     "execution_count": 272,
     "metadata": {},
     "output_type": "execute_result"
    }
   ],
   "source": [
    "# Manipulacao dos dados\n",
    "import pandas as pd\n",
    "from unidecode import unidecode\n",
    "import numpy as np\n",
    "\n",
    "# Visualização de dados\n",
    "import matplotlib.pyplot as plt\n",
    "import seaborn as sns\n",
    "\n",
    "df = pd.read_csv(\"PNAE_repasse.csv\")\n",
    "df.shape\n",
    "\n"
   ]
  },
  {
   "cell_type": "markdown",
   "id": "dc3ed80d",
   "metadata": {},
   "source": [
    "#### Retirar dados desnecessarios:"
   ]
  },
  {
   "cell_type": "code",
   "execution_count": 273,
   "id": "010931db",
   "metadata": {},
   "outputs": [
    {
     "name": "stdout",
     "output_type": "stream",
     "text": [
      "['CRECHE' 'EJA' 'ENSINO FUNDAMENTAL' 'ENSINO MÉDIO'\n",
      " 'ENSINO MÉDIO INTEGRAL' 'PRÉ-ESCOLA'\n",
      " 'ATENDIMENTO EDUCACIONAL ESPECIALIZADO (AEE)' 'INDÍGENA'\n",
      " 'MAIS EDUCAÇÃO (PARC. COMPLEM.) - FUNDAMENTAL' 'QUILOMBOLA'\n",
      " 'MAIS EDUCAÇÃO (PARC. COMPLEM.) - INDÍGENA'\n",
      " 'MAIS EDUCAÇÃO (PARC. COMPLEM.) - QUILOMBOLA'\n",
      " 'MAIS EDUCAÇÃO (PARC. COMPLEM.) - MÉDIO']\n"
     ]
    },
    {
     "data": {
      "text/html": [
       "<div>\n",
       "<style scoped>\n",
       "    .dataframe tbody tr th:only-of-type {\n",
       "        vertical-align: middle;\n",
       "    }\n",
       "\n",
       "    .dataframe tbody tr th {\n",
       "        vertical-align: top;\n",
       "    }\n",
       "\n",
       "    .dataframe thead th {\n",
       "        text-align: right;\n",
       "    }\n",
       "</style>\n",
       "<table border=\"1\" class=\"dataframe\">\n",
       "  <thead>\n",
       "    <tr style=\"text-align: right;\">\n",
       "      <th></th>\n",
       "      <th>Co_recursos_repassados</th>\n",
       "      <th>Ano</th>\n",
       "      <th>Estado</th>\n",
       "      <th>Municipio</th>\n",
       "      <th>Esfera_governo</th>\n",
       "      <th>Modalidade_ensino</th>\n",
       "      <th>Vl_total_escolas</th>\n",
       "    </tr>\n",
       "  </thead>\n",
       "  <tbody>\n",
       "    <tr>\n",
       "      <th>0</th>\n",
       "      <td>576380</td>\n",
       "      <td>2013</td>\n",
       "      <td>RS</td>\n",
       "      <td>AJURICABA</td>\n",
       "      <td>MUNICIPAL</td>\n",
       "      <td>ENSINO MÉDIO</td>\n",
       "      <td>15282</td>\n",
       "    </tr>\n",
       "    <tr>\n",
       "      <th>1</th>\n",
       "      <td>576386</td>\n",
       "      <td>2013</td>\n",
       "      <td>RS</td>\n",
       "      <td>ALECRIM</td>\n",
       "      <td>MUNICIPAL</td>\n",
       "      <td>ENSINO MÉDIO</td>\n",
       "      <td>13680</td>\n",
       "    </tr>\n",
       "    <tr>\n",
       "      <th>2</th>\n",
       "      <td>576392</td>\n",
       "      <td>2013</td>\n",
       "      <td>RS</td>\n",
       "      <td>ALEGRETE</td>\n",
       "      <td>MUNICIPAL</td>\n",
       "      <td>ENSINO MÉDIO</td>\n",
       "      <td>26200</td>\n",
       "    </tr>\n",
       "    <tr>\n",
       "      <th>3</th>\n",
       "      <td>576430</td>\n",
       "      <td>2013</td>\n",
       "      <td>RS</td>\n",
       "      <td>ANTA GORDA</td>\n",
       "      <td>MUNICIPAL</td>\n",
       "      <td>ENSINO MÉDIO</td>\n",
       "      <td>6540</td>\n",
       "    </tr>\n",
       "    <tr>\n",
       "      <th>4</th>\n",
       "      <td>576439</td>\n",
       "      <td>2013</td>\n",
       "      <td>RS</td>\n",
       "      <td>ARAMBARE</td>\n",
       "      <td>MUNICIPAL</td>\n",
       "      <td>ENSINO MÉDIO</td>\n",
       "      <td>10440</td>\n",
       "    </tr>\n",
       "  </tbody>\n",
       "</table>\n",
       "</div>"
      ],
      "text/plain": [
       "   Co_recursos_repassados   Ano Estado   Municipio Esfera_governo  \\\n",
       "0                  576380  2013     RS   AJURICABA      MUNICIPAL   \n",
       "1                  576386  2013     RS     ALECRIM      MUNICIPAL   \n",
       "2                  576392  2013     RS    ALEGRETE      MUNICIPAL   \n",
       "3                  576430  2013     RS  ANTA GORDA      MUNICIPAL   \n",
       "4                  576439  2013     RS    ARAMBARE      MUNICIPAL   \n",
       "\n",
       "  Modalidade_ensino Vl_total_escolas  \n",
       "0      ENSINO MÉDIO            15282  \n",
       "1      ENSINO MÉDIO            13680  \n",
       "2      ENSINO MÉDIO            26200  \n",
       "3      ENSINO MÉDIO             6540  \n",
       "4      ENSINO MÉDIO            10440  "
      ]
     },
     "execution_count": 273,
     "metadata": {},
     "output_type": "execute_result"
    }
   ],
   "source": [
    "print(df['Modalidade_ensino'].unique())\n",
    "\n",
    "# Filtrar para manter apenas ENSINO MÉDIO e ENSINO MÉDIO INTEGRAL\n",
    "df = df[df['Modalidade_ensino'].isin(['ENSINO MÉDIO', 'ENSINO MÉDIO INTEGRAL'])]\n",
    "\n",
    "# Apenas do rio Grande do sul:\n",
    "df = df[df['Estado'] == 'RS'] # separa só os do RS \n",
    "\n",
    "# Apenas a partit de 2012 e ate 2016:\n",
    "df = df[df['Ano'] > 2011].reset_index(drop=True) \n",
    "df = df[df['Ano'] < 2016].reset_index(drop=True) \n",
    "\n",
    "df.head()"
   ]
  },
  {
   "cell_type": "markdown",
   "id": "0da43156",
   "metadata": {},
   "source": [
    "### 2. Uniformização dos Dados:\n",
    "- Padronizar valores Categoricos;\n",
    "- Padronizar valores numéricos."
   ]
  },
  {
   "cell_type": "code",
   "execution_count": 274,
   "id": "aa543693",
   "metadata": {},
   "outputs": [],
   "source": [
    "# Dados categóricos para limpeza:\n",
    "colunas_to_clean = [\n",
    "    'Co_recursos_repassados', 'Estado',\n",
    "    'Municipio', 'Esfera_governo',\n",
    "]\n",
    "\n",
    "for col in colunas_to_clean:\n",
    "    df[col] = (\n",
    "        df[col].astype(str)\n",
    "               .str.upper()\n",
    "               .str.strip()\n",
    "               .str.replace('-', '', regex=False)\n",
    "               .str.replace(' ', '_', regex=False)\n",
    "               .str.replace('�', '/', regex=False)\n",
    "               .str.replace(r'\\s+', ' ', regex=True)\n",
    "    )\n",
    "\n",
    "# Dados Numericos:\n",
    "colunas_to_clean = [\n",
    "    'Co_recursos_repassados', 'Ano',\n",
    "    'Vl_total_escolas'\n",
    "]\n",
    "\n",
    "for col in colunas_to_clean:\n",
    "    df[col] = pd.to_numeric(\n",
    "        df[col].astype(str)\n",
    "                .str.strip()\n",
    "                .str.replace(' ', '', regex=False)\n",
    "                .str.replace(',', '', regex=False),\n",
    "        errors='coerce'  # substitui valores inválidos por NaN automaticamente\n",
    "    )"
   ]
  },
  {
   "cell_type": "markdown",
   "id": "4b30d38a",
   "metadata": {},
   "source": [
    "### 3. Análise Exploratoria dos Dados:\n",
    "- Indentificar a qualidade dos dados; \n",
    "- Identificar dados ausentes;\n",
    "- Tratamento desses Dados."
   ]
  },
  {
   "cell_type": "code",
   "execution_count": 275,
   "id": "9a63f887",
   "metadata": {},
   "outputs": [],
   "source": [
    "#Mostra a % de valores faltantes: round(3.141592653589793, 2)\n",
    "def Faltantes():\n",
    "    faltantes = df.isna().sum()\n",
    "    porcentagem = round(((faltantes / len(df)) * 100), 2)\n",
    "    resultado = pd.DataFrame({\n",
    "        'Qtd. Faltantes': faltantes,\n",
    "        '% Faltantes': porcentagem\n",
    "    }).sort_values(by='% Faltantes', ascending=False)\n",
    "\n",
    "    print(resultado)"
   ]
  },
  {
   "cell_type": "code",
   "execution_count": 276,
   "id": "198436b2",
   "metadata": {},
   "outputs": [
    {
     "name": "stdout",
     "output_type": "stream",
     "text": [
      "Linhas totais: 22796\n",
      "Duplicadas: 22240\n",
      "quantidade de linhas nao Duplicadas: 556\n"
     ]
    }
   ],
   "source": [
    "#Dados duplicado nesse data frame\n",
    "df_exemplo = df.copy()\n",
    "df_exemplo = df_exemplo.drop(columns=['Co_recursos_repassados']) \n",
    "print(f\"Linhas totais: {len(df_exemplo)}\")\n",
    "print(f\"Duplicadas: {df_exemplo.duplicated().sum()}\")\n",
    "print(f\"quantidade de linhas nao Duplicadas: {len(df_exemplo) - df_exemplo.duplicated().sum()}\")"
   ]
  },
  {
   "cell_type": "markdown",
   "id": "ac376885",
   "metadata": {},
   "source": [
    "Se tirarmos o Codigo de transicoes teremos `MUITOS` registos duplicados, \n",
    "pois, a presença de duplicados indica que o Ano não foi considerado ao unir todos os repasses, \n",
    "fazendo com que exista varios repasses do PNAE para as escolas durante um ano com o mesmo valor. \n",
    "\n",
    "Foi exatemnte isso que aconteceu, se levarmos em conta o codigo das transicoes,\n",
    "ele mostra que nao tem **nenhum valor duplicado** nesse df"
   ]
  },
  {
   "cell_type": "code",
   "execution_count": 277,
   "id": "4cd4074e",
   "metadata": {},
   "outputs": [
    {
     "name": "stdout",
     "output_type": "stream",
     "text": [
      "Duplicadas: 0\n"
     ]
    }
   ],
   "source": [
    "print(f\"Duplicadas: {df['Co_recursos_repassados'].duplicated().sum()}\")"
   ]
  },
  {
   "cell_type": "markdown",
   "id": "47ffbc5b",
   "metadata": {},
   "source": [
    "Checar o Numero de valores faltantes "
   ]
  },
  {
   "cell_type": "code",
   "execution_count": 278,
   "id": "9749260f",
   "metadata": {},
   "outputs": [
    {
     "name": "stdout",
     "output_type": "stream",
     "text": [
      "                        Qtd. Faltantes  % Faltantes\n",
      "Co_recursos_repassados               0          0.0\n",
      "Ano                                  0          0.0\n",
      "Estado                               0          0.0\n",
      "Municipio                            0          0.0\n",
      "Esfera_governo                       0          0.0\n",
      "Modalidade_ensino                    0          0.0\n",
      "Vl_total_escolas                     0          0.0\n"
     ]
    },
    {
     "data": {
      "text/plain": [
       "(22796, 7)"
      ]
     },
     "execution_count": 278,
     "metadata": {},
     "output_type": "execute_result"
    }
   ],
   "source": [
    "Faltantes()\n",
    "df.shape"
   ]
  },
  {
   "cell_type": "markdown",
   "id": "90ed1b6c",
   "metadata": {},
   "source": [
    "#### Retirar colunas desnecessarias:"
   ]
  },
  {
   "cell_type": "code",
   "execution_count": 279,
   "id": "a40dae81",
   "metadata": {},
   "outputs": [],
   "source": [
    "df = df.drop(columns=['Co_recursos_repassados']) "
   ]
  },
  {
   "cell_type": "code",
   "execution_count": 280,
   "id": "aef12cc7",
   "metadata": {},
   "outputs": [
    {
     "data": {
      "text/html": [
       "<div>\n",
       "<style scoped>\n",
       "    .dataframe tbody tr th:only-of-type {\n",
       "        vertical-align: middle;\n",
       "    }\n",
       "\n",
       "    .dataframe tbody tr th {\n",
       "        vertical-align: top;\n",
       "    }\n",
       "\n",
       "    .dataframe thead th {\n",
       "        text-align: right;\n",
       "    }\n",
       "</style>\n",
       "<table border=\"1\" class=\"dataframe\">\n",
       "  <thead>\n",
       "    <tr style=\"text-align: right;\">\n",
       "      <th></th>\n",
       "      <th>Ano</th>\n",
       "      <th>Vl_total_escolas</th>\n",
       "    </tr>\n",
       "  </thead>\n",
       "  <tbody>\n",
       "    <tr>\n",
       "      <th>count</th>\n",
       "      <td>22796.000000</td>\n",
       "      <td>2.279600e+04</td>\n",
       "    </tr>\n",
       "    <tr>\n",
       "      <th>mean</th>\n",
       "      <td>2013.419065</td>\n",
       "      <td>1.677446e+05</td>\n",
       "    </tr>\n",
       "    <tr>\n",
       "      <th>std</th>\n",
       "      <td>1.103777</td>\n",
       "      <td>1.657271e+06</td>\n",
       "    </tr>\n",
       "    <tr>\n",
       "      <th>min</th>\n",
       "      <td>2012.000000</td>\n",
       "      <td>3.600000e+02</td>\n",
       "    </tr>\n",
       "    <tr>\n",
       "      <th>25%</th>\n",
       "      <td>2012.000000</td>\n",
       "      <td>4.920000e+03</td>\n",
       "    </tr>\n",
       "    <tr>\n",
       "      <th>50%</th>\n",
       "      <td>2013.000000</td>\n",
       "      <td>9.810000e+03</td>\n",
       "    </tr>\n",
       "    <tr>\n",
       "      <th>75%</th>\n",
       "      <td>2014.000000</td>\n",
       "      <td>2.539500e+04</td>\n",
       "    </tr>\n",
       "    <tr>\n",
       "      <th>max</th>\n",
       "      <td>2015.000000</td>\n",
       "      <td>1.977052e+07</td>\n",
       "    </tr>\n",
       "  </tbody>\n",
       "</table>\n",
       "</div>"
      ],
      "text/plain": [
       "                Ano  Vl_total_escolas\n",
       "count  22796.000000      2.279600e+04\n",
       "mean    2013.419065      1.677446e+05\n",
       "std        1.103777      1.657271e+06\n",
       "min     2012.000000      3.600000e+02\n",
       "25%     2012.000000      4.920000e+03\n",
       "50%     2013.000000      9.810000e+03\n",
       "75%     2014.000000      2.539500e+04\n",
       "max     2015.000000      1.977052e+07"
      ]
     },
     "execution_count": 280,
     "metadata": {},
     "output_type": "execute_result"
    }
   ],
   "source": [
    "df.describe()"
   ]
  },
  {
   "cell_type": "markdown",
   "id": "abfa4912",
   "metadata": {},
   "source": [
    "### Qualidade dos dados:\n",
    "\n",
    "`Pontos positivos:` \n",
    "- Mais de 860'000 registros (muitos registros).\n",
    "- Poucos valores ausentes, apenas 1,5% estao faltando.\n",
    "\n",
    "`Pontos negativos:` \n",
    "- Altíssima dispersão porem com uma grande densidade de dados menores . \n",
    "\n",
    "#### Outliers:\n",
    "Por causa da alta dispercao dos dados, nos nao conseguimos indentificar nenhum dado que posso ser considerado um outlier. "
   ]
  },
  {
   "cell_type": "markdown",
   "id": "5d4d5c02",
   "metadata": {},
   "source": [
    "#### Tratamento de dados faltantes. \n",
    "Nenhuma linha tem dados faltantes. "
   ]
  },
  {
   "cell_type": "code",
   "execution_count": 281,
   "id": "a523ef5d",
   "metadata": {},
   "outputs": [
    {
     "name": "stdout",
     "output_type": "stream",
     "text": [
      "                   Qtd. Faltantes  % Faltantes\n",
      "Ano                             0          0.0\n",
      "Estado                          0          0.0\n",
      "Municipio                       0          0.0\n",
      "Esfera_governo                  0          0.0\n",
      "Modalidade_ensino               0          0.0\n",
      "Vl_total_escolas                0          0.0\n"
     ]
    }
   ],
   "source": [
    "index = df[df['Vl_total_escolas'].isna()].index\n",
    "#df.drop(index=index, inplace=True)\n",
    "\n",
    "Faltantes()"
   ]
  },
  {
   "cell_type": "markdown",
   "id": "ed943a99",
   "metadata": {},
   "source": [
    "#### Para visualizar a variação da média dos valores da PNAE ao longo dos anos:\n",
    "Transforme essa célula em código Python, e execute para gerar um gráfico com a média anual dos valores recebidos pelas escolas:\n",
    "\n",
    "{\n",
    "# Agrupar: média de Vl_total_escolas por ano\n",
    "media_por_ano = df.groupby('Ano')['Vl_total_escolas'].mean()\n",
    "\n",
    "# Plotar a média por ano (em barras)\n",
    "media_por_ano.plot(kind='bar')\n",
    "plt.title('Média do Valor Total por Ano')\n",
    "plt.xlabel('Ano')\n",
    "plt.ylabel('Média do valor total recebido pelas escolas')\n",
    "\n",
    "# Calcular a média geral (para a linha vermelha)\n",
    "media_geral = df['Vl_total_escolas'].mean()\n",
    "plt.axhline(media_geral, color='red', linestyle='--', label=f'Média geral ≈ {int(media_geral)}')\n",
    "\n",
    "plt.legend()\n",
    "plt.show()\n",
    "}"
   ]
  },
  {
   "cell_type": "markdown",
   "id": "237f98c6",
   "metadata": {},
   "source": [
    "Os valores **médios por ano** são muito próximos entre si:\n",
    "- A variação de altura das barras é pequena.\n",
    "- Isso sugere baixa granularidade temporal:\n",
    "\n",
    "Isso nos mostra que o valor total repasse por escola nao teve grandes mudanças do orçamento durante 3 anos."
   ]
  },
  {
   "cell_type": "markdown",
   "id": "bdf882f6",
   "metadata": {},
   "source": [
    "#### Agrupar os dados:"
   ]
  },
  {
   "cell_type": "code",
   "execution_count": 282,
   "id": "cf9a5157",
   "metadata": {},
   "outputs": [
    {
     "name": "stdout",
     "output_type": "stream",
     "text": [
      "      Municipio   Ano  Vl_total_escolas\n",
      "0     AJURICABA  2012            740460\n",
      "1     AJURICABA  2013            626562\n",
      "2     AJURICABA  2014            651900\n",
      "3       ALECRIM  2012            659280\n",
      "4       ALECRIM  2013            560880\n",
      "..          ...   ...               ...\n",
      "547  VILA_MARIA  2015            312420\n",
      "548   WESTFALIA  2012            248460\n",
      "549   WESTFALIA  2013            255840\n",
      "550   WESTFALIA  2014            248460\n",
      "551   WESTFALIA  2015            282900\n",
      "\n",
      "[552 rows x 3 columns]\n"
     ]
    }
   ],
   "source": [
    "# Agrupar por Municipio, Ano, Esfera e somar as quantidades\n",
    "df['Vl_total_escolas'] = pd.to_numeric(df['Vl_total_escolas'], errors='coerce')\n",
    "\n",
    "df = df.groupby(['Municipio', 'Ano'])['Vl_total_escolas'].sum().reset_index()\n",
    "\n",
    "print(df)"
   ]
  },
  {
   "cell_type": "code",
   "execution_count": 283,
   "id": "eb8fcdb8",
   "metadata": {},
   "outputs": [
    {
     "data": {
      "text/html": [
       "<div>\n",
       "<style scoped>\n",
       "    .dataframe tbody tr th:only-of-type {\n",
       "        vertical-align: middle;\n",
       "    }\n",
       "\n",
       "    .dataframe tbody tr th {\n",
       "        vertical-align: top;\n",
       "    }\n",
       "\n",
       "    .dataframe thead th {\n",
       "        text-align: right;\n",
       "    }\n",
       "</style>\n",
       "<table border=\"1\" class=\"dataframe\">\n",
       "  <thead>\n",
       "    <tr style=\"text-align: right;\">\n",
       "      <th></th>\n",
       "      <th>Ano</th>\n",
       "      <th>Vl_total_escolas</th>\n",
       "    </tr>\n",
       "  </thead>\n",
       "  <tbody>\n",
       "    <tr>\n",
       "      <th>count</th>\n",
       "      <td>552.000000</td>\n",
       "      <td>5.520000e+02</td>\n",
       "    </tr>\n",
       "    <tr>\n",
       "      <th>mean</th>\n",
       "      <td>2013.418478</td>\n",
       "      <td>6.927366e+06</td>\n",
       "    </tr>\n",
       "    <tr>\n",
       "      <th>std</th>\n",
       "      <td>1.104628</td>\n",
       "      <td>6.862198e+07</td>\n",
       "    </tr>\n",
       "    <tr>\n",
       "      <th>min</th>\n",
       "      <td>2012.000000</td>\n",
       "      <td>1.476000e+04</td>\n",
       "    </tr>\n",
       "    <tr>\n",
       "      <th>25%</th>\n",
       "      <td>2012.000000</td>\n",
       "      <td>2.017200e+05</td>\n",
       "    </tr>\n",
       "    <tr>\n",
       "      <th>50%</th>\n",
       "      <td>2013.000000</td>\n",
       "      <td>3.997500e+05</td>\n",
       "    </tr>\n",
       "    <tr>\n",
       "      <th>75%</th>\n",
       "      <td>2014.000000</td>\n",
       "      <td>1.023360e+06</td>\n",
       "    </tr>\n",
       "    <tr>\n",
       "      <th>max</th>\n",
       "      <td>2015.000000</td>\n",
       "      <td>8.152801e+08</td>\n",
       "    </tr>\n",
       "  </tbody>\n",
       "</table>\n",
       "</div>"
      ],
      "text/plain": [
       "               Ano  Vl_total_escolas\n",
       "count   552.000000      5.520000e+02\n",
       "mean   2013.418478      6.927366e+06\n",
       "std       1.104628      6.862198e+07\n",
       "min    2012.000000      1.476000e+04\n",
       "25%    2012.000000      2.017200e+05\n",
       "50%    2013.000000      3.997500e+05\n",
       "75%    2014.000000      1.023360e+06\n",
       "max    2015.000000      8.152801e+08"
      ]
     },
     "execution_count": 283,
     "metadata": {},
     "output_type": "execute_result"
    }
   ],
   "source": [
    "df.to_csv('df2.csv', index=False)\n",
    "\n",
    "df.describe()"
   ]
  }
 ],
 "metadata": {
  "kernelspec": {
   "display_name": "ambiente-cpa",
   "language": "python",
   "name": "python3"
  },
  "language_info": {
   "codemirror_mode": {
    "name": "ipython",
    "version": 3
   },
   "file_extension": ".py",
   "mimetype": "text/x-python",
   "name": "python",
   "nbconvert_exporter": "python",
   "pygments_lexer": "ipython3",
   "version": "3.12.9"
  }
 },
 "nbformat": 4,
 "nbformat_minor": 5
}
